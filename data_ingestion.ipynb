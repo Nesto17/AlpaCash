{
 "cells": [
  {
   "cell_type": "code",
   "execution_count": 18,
   "metadata": {},
   "outputs": [],
   "source": [
    "import pandas as pd\n",
    "import boto3\n",
    "import pyarrow\n",
    "from alpaca.data.historical import StockHistoricalDataClient\n",
    "from alpaca.data.live import StockDataStream\n",
    "from alpaca.data.requests import StockBarsRequest, StockTradesRequest\n",
    "from alpaca.data.timeframe import TimeFrame\n",
    "\n",
    "from dotenv import load_dotenv\n",
    "import os\n",
    "import json\n",
    "from datetime import datetime, timedelta"
   ]
  },
  {
   "cell_type": "code",
   "execution_count": 19,
   "metadata": {},
   "outputs": [],
   "source": [
    "load_dotenv()\n",
    "ALPACA_API_KEY = os.environ.get(\"ALPACA_API_KEY\")\n",
    "ALPACA_SECRET_KEY = os.environ.get(\"ALPACA_SECRET_KEY\")"
   ]
  },
  {
   "cell_type": "markdown",
   "metadata": {},
   "source": [
    "## Reading Tickers"
   ]
  },
  {
   "cell_type": "code",
   "execution_count": 20,
   "metadata": {},
   "outputs": [],
   "source": [
    "nasdaq = pd.read_csv(\"https://s3-alpaca-stock-data.s3.us-west-1.amazonaws.com/tickers/nasdaq100.csv\")\n",
    "nyse = pd.read_csv(\"https://s3-alpaca-stock-data.s3.us-west-1.amazonaws.com/tickers/nyse100.csv\")"
   ]
  },
  {
   "cell_type": "code",
   "execution_count": 21,
   "metadata": {},
   "outputs": [
    {
     "data": {
      "text/html": [
       "<div>\n",
       "<style scoped>\n",
       "    .dataframe tbody tr th:only-of-type {\n",
       "        vertical-align: middle;\n",
       "    }\n",
       "\n",
       "    .dataframe tbody tr th {\n",
       "        vertical-align: top;\n",
       "    }\n",
       "\n",
       "    .dataframe thead th {\n",
       "        text-align: right;\n",
       "    }\n",
       "</style>\n",
       "<table border=\"1\" class=\"dataframe\">\n",
       "  <thead>\n",
       "    <tr style=\"text-align: right;\">\n",
       "      <th></th>\n",
       "      <th>Ticker</th>\n",
       "      <th>Code</th>\n",
       "      <th>Name</th>\n",
       "    </tr>\n",
       "  </thead>\n",
       "  <tbody>\n",
       "    <tr>\n",
       "      <th>0</th>\n",
       "      <td>FOXA</td>\n",
       "      <td>GOOG/NASDAQ_FOXA</td>\n",
       "      <td>21st Century Fox Class A</td>\n",
       "    </tr>\n",
       "    <tr>\n",
       "      <th>1</th>\n",
       "      <td>ATVI</td>\n",
       "      <td>GOOG/NASDAQ_ATVI</td>\n",
       "      <td>Activision Blizzard Inc</td>\n",
       "    </tr>\n",
       "    <tr>\n",
       "      <th>2</th>\n",
       "      <td>ADBE</td>\n",
       "      <td>GOOG/NASDAQ_ADBE</td>\n",
       "      <td>Adobe Systems Inc</td>\n",
       "    </tr>\n",
       "    <tr>\n",
       "      <th>3</th>\n",
       "      <td>AKAM</td>\n",
       "      <td>GOOG/NASDAQ_AKAM</td>\n",
       "      <td>Akamai Technologies Inc</td>\n",
       "    </tr>\n",
       "    <tr>\n",
       "      <th>4</th>\n",
       "      <td>ALXN</td>\n",
       "      <td>GOOG/NASDAQ_ALXN</td>\n",
       "      <td>Alexion Pharmaceuticals Inc</td>\n",
       "    </tr>\n",
       "  </tbody>\n",
       "</table>\n",
       "</div>"
      ],
      "text/plain": [
       "  Ticker              Code                         Name\n",
       "0   FOXA  GOOG/NASDAQ_FOXA     21st Century Fox Class A\n",
       "1   ATVI  GOOG/NASDAQ_ATVI      Activision Blizzard Inc\n",
       "2   ADBE  GOOG/NASDAQ_ADBE            Adobe Systems Inc\n",
       "3   AKAM  GOOG/NASDAQ_AKAM      Akamai Technologies Inc\n",
       "4   ALXN  GOOG/NASDAQ_ALXN  Alexion Pharmaceuticals Inc"
      ]
     },
     "execution_count": 21,
     "metadata": {},
     "output_type": "execute_result"
    }
   ],
   "source": [
    "nasdaq.head()"
   ]
  },
  {
   "cell_type": "code",
   "execution_count": 22,
   "metadata": {},
   "outputs": [
    {
     "data": {
      "text/html": [
       "<div>\n",
       "<style scoped>\n",
       "    .dataframe tbody tr th:only-of-type {\n",
       "        vertical-align: middle;\n",
       "    }\n",
       "\n",
       "    .dataframe tbody tr th {\n",
       "        vertical-align: top;\n",
       "    }\n",
       "\n",
       "    .dataframe thead th {\n",
       "        text-align: right;\n",
       "    }\n",
       "</style>\n",
       "<table border=\"1\" class=\"dataframe\">\n",
       "  <thead>\n",
       "    <tr style=\"text-align: right;\">\n",
       "      <th></th>\n",
       "      <th>Ticker</th>\n",
       "      <th>Code</th>\n",
       "      <th>Name</th>\n",
       "    </tr>\n",
       "  </thead>\n",
       "  <tbody>\n",
       "    <tr>\n",
       "      <th>0</th>\n",
       "      <td>MMM</td>\n",
       "      <td>GOOG/NYSE_MMM</td>\n",
       "      <td>3M Co.</td>\n",
       "    </tr>\n",
       "    <tr>\n",
       "      <th>1</th>\n",
       "      <td>ABT</td>\n",
       "      <td>GOOG/NYSE_ABT</td>\n",
       "      <td>Abbott Laboratories</td>\n",
       "    </tr>\n",
       "    <tr>\n",
       "      <th>2</th>\n",
       "      <td>ACN</td>\n",
       "      <td>GOOG/NYSE_ACN</td>\n",
       "      <td>Accenture PLC Cl A</td>\n",
       "    </tr>\n",
       "    <tr>\n",
       "      <th>3</th>\n",
       "      <td>AGN</td>\n",
       "      <td>GOOG/NYSE_AGN</td>\n",
       "      <td>Allergan Inc.</td>\n",
       "    </tr>\n",
       "    <tr>\n",
       "      <th>4</th>\n",
       "      <td>MO</td>\n",
       "      <td>GOOG/NYSE_MO</td>\n",
       "      <td>Altria Group Inc.</td>\n",
       "    </tr>\n",
       "  </tbody>\n",
       "</table>\n",
       "</div>"
      ],
      "text/plain": [
       "  Ticker           Code                 Name\n",
       "0    MMM  GOOG/NYSE_MMM               3M Co.\n",
       "1    ABT  GOOG/NYSE_ABT  Abbott Laboratories\n",
       "2    ACN  GOOG/NYSE_ACN   Accenture PLC Cl A\n",
       "3    AGN  GOOG/NYSE_AGN        Allergan Inc.\n",
       "4     MO   GOOG/NYSE_MO    Altria Group Inc."
      ]
     },
     "execution_count": 22,
     "metadata": {},
     "output_type": "execute_result"
    }
   ],
   "source": [
    "nyse.head()"
   ]
  },
  {
   "cell_type": "code",
   "execution_count": 23,
   "metadata": {},
   "outputs": [],
   "source": [
    "nasdaq_tickers = list(nasdaq.iloc[:, 0])\n",
    "nyse_tickers = list(nyse.iloc[:, 0])\n",
    "tickers = set(nasdaq_tickers + nyse_tickers)"
   ]
  },
  {
   "cell_type": "markdown",
   "metadata": {},
   "source": [
    "## Batch Data Ingestion"
   ]
  },
  {
   "cell_type": "code",
   "execution_count": 24,
   "metadata": {},
   "outputs": [],
   "source": [
    "hist_client = StockHistoricalDataClient(ALPACA_API_KEY, ALPACA_SECRET_KEY)"
   ]
  },
  {
   "cell_type": "code",
   "execution_count": 59,
   "metadata": {},
   "outputs": [],
   "source": [
    "def convert_datetime(date: datetime):\n",
    "    return datetime(date.year, date.month, date.day, 0, 0, 0)\n",
    "\n",
    "def getStockHistoricalData(client: StockHistoricalDataClient, start_date, end_date = datetime.today()):\n",
    "    bar_request = StockBarsRequest(\n",
    "        symbol_or_symbols=tickers,\n",
    "        timeframe=TimeFrame.Day,\n",
    "        start=start_date,\n",
    "        end=end_date\n",
    "    )\n",
    "\n",
    "    # res = client.get_stock_bars(bar_request)\n",
    "    res = client.get_stock_bars(bar_request)\n",
    "    return(res)\n",
    "\n",
    "bars = getStockHistoricalData(hist_client, datetime(2023, 1, 1), datetime(2023, 9, 8)).data"
   ]
  },
  {
   "cell_type": "code",
   "execution_count": 62,
   "metadata": {},
   "outputs": [
    {
     "data": {
      "text/plain": [
       "171"
      ]
     },
     "execution_count": 62,
     "metadata": {},
     "output_type": "execute_result"
    }
   ],
   "source": [
    "len(bars['ACN'])"
   ]
  },
  {
   "cell_type": "code",
   "execution_count": 63,
   "metadata": {},
   "outputs": [],
   "source": [
    "BAR_SCHEMA = {\n",
    "    \"symbol\": str,\n",
    "    \"high\": \"float64\",\n",
    "    \"low\": \"float64\",\n",
    "    \"open\": \"float64\",\n",
    "    \"timestamp\": \"datetime64[ns]\",\n",
    "    \"trade_count\": \"float64\",\n",
    "    \"volume\": \"float64\",\n",
    "    \"vwap\": \"float64\"\n",
    "}\n",
    "df = pd.DataFrame(columns=BAR_SCHEMA.keys()).astype(BAR_SCHEMA)\n",
    "\n",
    "for i, ticker in enumerate(bars):\n",
    "    for bar in bars[ticker]:\n",
    "        entry = {\n",
    "            \"symbol\": bar.symbol,\n",
    "            \"high\": bar.high,\n",
    "            \"low\": bar.low,\n",
    "            \"open\": bar.open,\n",
    "            \"timestamp\": bar.timestamp,\n",
    "            \"trade_count\": bar.trade_count,\n",
    "            \"volume\": bar.volume,\n",
    "            \"vwap\": bar.vwap\n",
    "        }\n",
    "        df.loc[len(df)] = entry\n"
   ]
  },
  {
   "cell_type": "code",
   "execution_count": 13,
   "metadata": {},
   "outputs": [
    {
     "data": {
      "text/html": [
       "<div>\n",
       "<style scoped>\n",
       "    .dataframe tbody tr th:only-of-type {\n",
       "        vertical-align: middle;\n",
       "    }\n",
       "\n",
       "    .dataframe tbody tr th {\n",
       "        vertical-align: top;\n",
       "    }\n",
       "\n",
       "    .dataframe thead th {\n",
       "        text-align: right;\n",
       "    }\n",
       "</style>\n",
       "<table border=\"1\" class=\"dataframe\">\n",
       "  <thead>\n",
       "    <tr style=\"text-align: right;\">\n",
       "      <th></th>\n",
       "      <th>symbol</th>\n",
       "      <th>high</th>\n",
       "      <th>low</th>\n",
       "      <th>open</th>\n",
       "      <th>timestamp</th>\n",
       "      <th>trade_count</th>\n",
       "      <th>volume</th>\n",
       "      <th>vwap</th>\n",
       "    </tr>\n",
       "  </thead>\n",
       "  <tbody>\n",
       "    <tr>\n",
       "      <th>0</th>\n",
       "      <td>AVGO</td>\n",
       "      <td>860.830</td>\n",
       "      <td>850.120</td>\n",
       "      <td>855.00</td>\n",
       "      <td>2023-09-08 04:00:00+00:00</td>\n",
       "      <td>56082.0</td>\n",
       "      <td>1681900.0</td>\n",
       "      <td>856.742460</td>\n",
       "    </tr>\n",
       "    <tr>\n",
       "      <th>1</th>\n",
       "      <td>HAL</td>\n",
       "      <td>41.640</td>\n",
       "      <td>41.050</td>\n",
       "      <td>41.11</td>\n",
       "      <td>2023-09-08 04:00:00+00:00</td>\n",
       "      <td>66518.0</td>\n",
       "      <td>9034302.0</td>\n",
       "      <td>41.428384</td>\n",
       "    </tr>\n",
       "    <tr>\n",
       "      <th>2</th>\n",
       "      <td>MDT</td>\n",
       "      <td>80.090</td>\n",
       "      <td>79.415</td>\n",
       "      <td>79.57</td>\n",
       "      <td>2023-09-08 04:00:00+00:00</td>\n",
       "      <td>43243.0</td>\n",
       "      <td>4208713.0</td>\n",
       "      <td>79.812639</td>\n",
       "    </tr>\n",
       "    <tr>\n",
       "      <th>3</th>\n",
       "      <td>ADSK</td>\n",
       "      <td>221.915</td>\n",
       "      <td>217.860</td>\n",
       "      <td>220.56</td>\n",
       "      <td>2023-09-08 04:00:00+00:00</td>\n",
       "      <td>21838.0</td>\n",
       "      <td>1002278.0</td>\n",
       "      <td>219.432816</td>\n",
       "    </tr>\n",
       "    <tr>\n",
       "      <th>4</th>\n",
       "      <td>AXP</td>\n",
       "      <td>157.790</td>\n",
       "      <td>156.710</td>\n",
       "      <td>157.02</td>\n",
       "      <td>2023-09-08 04:00:00+00:00</td>\n",
       "      <td>41938.0</td>\n",
       "      <td>1931613.0</td>\n",
       "      <td>157.404799</td>\n",
       "    </tr>\n",
       "  </tbody>\n",
       "</table>\n",
       "</div>"
      ],
      "text/plain": [
       "  symbol     high      low    open                 timestamp  trade_count  \\\n",
       "0   AVGO  860.830  850.120  855.00 2023-09-08 04:00:00+00:00      56082.0   \n",
       "1    HAL   41.640   41.050   41.11 2023-09-08 04:00:00+00:00      66518.0   \n",
       "2    MDT   80.090   79.415   79.57 2023-09-08 04:00:00+00:00      43243.0   \n",
       "3   ADSK  221.915  217.860  220.56 2023-09-08 04:00:00+00:00      21838.0   \n",
       "4    AXP  157.790  156.710  157.02 2023-09-08 04:00:00+00:00      41938.0   \n",
       "\n",
       "      volume        vwap  \n",
       "0  1681900.0  856.742460  \n",
       "1  9034302.0   41.428384  \n",
       "2  4208713.0   79.812639  \n",
       "3  1002278.0  219.432816  \n",
       "4  1931613.0  157.404799  "
      ]
     },
     "execution_count": 13,
     "metadata": {},
     "output_type": "execute_result"
    }
   ],
   "source": [
    "df.head()"
   ]
  },
  {
   "cell_type": "code",
   "execution_count": 124,
   "metadata": {},
   "outputs": [],
   "source": [
    "df.to_parquet(\"stocks.parquet.gzip\", engine = \"pyarrow\", compression = \"gzip\")"
   ]
  },
  {
   "cell_type": "markdown",
   "metadata": {},
   "source": [
    "## Sending to S3"
   ]
  },
  {
   "cell_type": "code",
   "execution_count": 125,
   "metadata": {},
   "outputs": [],
   "source": [
    "s3 = boto3.client(\"s3\")\n",
    "\n",
    "file_path = \"stocks.parquet.gzip\"\n",
    "bucket_name = \"s3-alpaca-stock-data\"\n"
   ]
  },
  {
   "cell_type": "code",
   "execution_count": 126,
   "metadata": {},
   "outputs": [],
   "source": [
    "s3.upload_file(file_path, bucket_name, \"historical/test.parquet.gzip\")"
   ]
  },
  {
   "cell_type": "code",
   "execution_count": null,
   "metadata": {},
   "outputs": [],
   "source": []
  }
 ],
 "metadata": {
  "kernelspec": {
   "display_name": "conda-env",
   "language": "python",
   "name": "python3"
  },
  "language_info": {
   "codemirror_mode": {
    "name": "ipython",
    "version": 3
   },
   "file_extension": ".py",
   "mimetype": "text/x-python",
   "name": "python",
   "nbconvert_exporter": "python",
   "pygments_lexer": "ipython3",
   "version": "3.10.9"
  },
  "orig_nbformat": 4
 },
 "nbformat": 4,
 "nbformat_minor": 2
}
