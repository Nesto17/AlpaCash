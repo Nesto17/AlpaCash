{
 "cells": [
  {
   "cell_type": "code",
   "execution_count": 12,
   "metadata": {},
   "outputs": [],
   "source": [
    "import pandas as pd\n",
    "import boto3\n",
    "from alpaca.data.historical import StockHistoricalDataClient\n",
    "from alpaca.data.live import StockDataStream\n",
    "from alpaca.data.requests import StockBarsRequest, StockTradesRequest\n",
    "from alpaca.data.timeframe import TimeFrame\n",
    "\n",
    "from dotenv import load_dotenv\n",
    "import os\n",
    "import json\n",
    "from datetime import datetime"
   ]
  },
  {
   "cell_type": "code",
   "execution_count": 4,
   "metadata": {},
   "outputs": [],
   "source": [
    "load_dotenv()\n",
    "ALPACA_API_KEY = os.environ.get(\"ALPACA_API_KEY\")\n",
    "ALPACA_SECRET_KEY = os.environ.get(\"ALPACA_SECRET_KEY\")"
   ]
  },
  {
   "cell_type": "markdown",
   "metadata": {},
   "source": [
    "## Batch Data Ingestion"
   ]
  },
  {
   "cell_type": "code",
   "execution_count": 6,
   "metadata": {},
   "outputs": [],
   "source": [
    "hist_client = StockHistoricalDataClient(ALPACA_API_KEY, ALPACA_SECRET_KEY)"
   ]
  },
  {
   "cell_type": "code",
   "execution_count": 23,
   "metadata": {},
   "outputs": [],
   "source": [
    "def getStockHistoricalData(client: StockHistoricalDataClient, start_date, end_date = datetime.today()):\n",
    "    bar_request = StockBarsRequest(\n",
    "        symbol_or_symbols=[\"GOOGL\"],\n",
    "        timeframe=TimeFrame.Day,\n",
    "        start=start_date,\n",
    "        end=end_date\n",
    "    )\n",
    "\n",
    "    # res = client.get_stock_bars(bar_request)\n",
    "    res = client.get_stock_bars(bar_request)\n",
    "    return(res)\n",
    "\n",
    "data = getStockHistoricalData(hist_client, datetime(2023, 9, 4))"
   ]
  },
  {
   "cell_type": "code",
   "execution_count": 24,
   "metadata": {},
   "outputs": [
    {
     "data": {
      "text/plain": [
       "{   'GOOGL': [   {   'close': 135.77,\n",
       "                     'high': 136.42,\n",
       "                     'low': 134.5801,\n",
       "                     'open': 135.44,\n",
       "                     'symbol': 'GOOGL',\n",
       "                     'timestamp': datetime.datetime(2023, 9, 5, 4, 0, tzinfo=datetime.timezone.utc),\n",
       "                     'trade_count': 249857.0,\n",
       "                     'volume': 19414125.0,\n",
       "                     'vwap': 135.590301},\n",
       "                 {   'close': 134.46,\n",
       "                     'high': 136.5299,\n",
       "                     'low': 133.665,\n",
       "                     'open': 136.02,\n",
       "                     'symbol': 'GOOGL',\n",
       "                     'timestamp': datetime.datetime(2023, 9, 6, 4, 0, tzinfo=datetime.timezone.utc),\n",
       "                     'trade_count': 244917.0,\n",
       "                     'volume': 18684534.0,\n",
       "                     'vwap': 134.669254},\n",
       "                 {   'close': 135.26,\n",
       "                     'high': 135.58,\n",
       "                     'low': 132.95,\n",
       "                     'open': 133.59,\n",
       "                     'symbol': 'GOOGL',\n",
       "                     'timestamp': datetime.datetime(2023, 9, 7, 4, 0, tzinfo=datetime.timezone.utc),\n",
       "                     'trade_count': 218595.0,\n",
       "                     'volume': 18779535.0,\n",
       "                     'vwap': 134.757181}]}"
      ]
     },
     "execution_count": 24,
     "metadata": {},
     "output_type": "execute_result"
    }
   ],
   "source": [
    "data"
   ]
  },
  {
   "cell_type": "markdown",
   "metadata": {},
   "source": [
    "## Sending to S3"
   ]
  },
  {
   "cell_type": "code",
   "execution_count": 18,
   "metadata": {},
   "outputs": [],
   "source": [
    "s3 = boto3.client(\"s3\")\n",
    "\n",
    "file_path = \"test.csv\"\n",
    "bucket_name = \"s3-alpaca-stock-data\"\n"
   ]
  },
  {
   "cell_type": "code",
   "execution_count": 19,
   "metadata": {},
   "outputs": [],
   "source": [
    "s3.upload_file(file_path, bucket_name, \"destination/path/penguins.csv\")"
   ]
  },
  {
   "cell_type": "code",
   "execution_count": null,
   "metadata": {},
   "outputs": [],
   "source": []
  }
 ],
 "metadata": {
  "kernelspec": {
   "display_name": "conda-env",
   "language": "python",
   "name": "python3"
  },
  "language_info": {
   "codemirror_mode": {
    "name": "ipython",
    "version": 3
   },
   "file_extension": ".py",
   "mimetype": "text/x-python",
   "name": "python",
   "nbconvert_exporter": "python",
   "pygments_lexer": "ipython3",
   "version": "3.10.9"
  },
  "orig_nbformat": 4
 },
 "nbformat": 4,
 "nbformat_minor": 2
}
